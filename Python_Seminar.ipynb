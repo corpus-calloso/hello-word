{
  "nbformat": 4,
  "nbformat_minor": 0,
  "metadata": {
    "colab": {
      "name": "Python-Seminar.ipynb",
      "provenance": [],
      "collapsed_sections": [],
      "authorship_tag": "ABX9TyNJ7Z++tccXIwWj4xVmJRgC",
      "include_colab_link": true
    },
    "kernelspec": {
      "name": "python3",
      "display_name": "Python 3"
    },
    "language_info": {
      "name": "python"
    }
  },
  "cells": [
    {
      "cell_type": "markdown",
      "metadata": {
        "id": "view-in-github",
        "colab_type": "text"
      },
      "source": [
        "<a href=\"https://colab.research.google.com/github/corpus-calloso/hello-word/blob/master/Python_Seminar.ipynb\" target=\"_parent\"><img src=\"https://colab.research.google.com/assets/colab-badge.svg\" alt=\"Open In Colab\"/></a>"
      ]
    },
    {
      "cell_type": "markdown",
      "metadata": {
        "id": "UUrBUH9uz5HX"
      },
      "source": [
        "# Python Seminar"
      ]
    },
    {
      "cell_type": "markdown",
      "metadata": {
        "id": "4k-o5y9ez7KA"
      },
      "source": [
        "Python Seminar provided by the reproducibility society at the university of surrey.\n",
        "\n"
      ]
    },
    {
      "cell_type": "code",
      "metadata": {
        "colab": {
          "base_uri": "https://localhost:8080/",
          "height": 416
        },
        "id": "KKpSsD-c0Ulh",
        "outputId": "1f5992bb-558c-41b2-a4d0-72157ab506c4"
      },
      "source": [
        "import pandas as pd\n",
        "affairs_df = pd.read_csv(\"https://raw.githubusercontent.com/mark-andrews/intro2pystats/master/data/affairs.csv\")\n",
        "affairs_df"
      ],
      "execution_count": null,
      "outputs": [
        {
          "output_type": "execute_result",
          "data": {
            "text/html": [
              "<div>\n",
              "<style scoped>\n",
              "    .dataframe tbody tr th:only-of-type {\n",
              "        vertical-align: middle;\n",
              "    }\n",
              "\n",
              "    .dataframe tbody tr th {\n",
              "        vertical-align: top;\n",
              "    }\n",
              "\n",
              "    .dataframe thead th {\n",
              "        text-align: right;\n",
              "    }\n",
              "</style>\n",
              "<table border=\"1\" class=\"dataframe\">\n",
              "  <thead>\n",
              "    <tr style=\"text-align: right;\">\n",
              "      <th></th>\n",
              "      <th>affairs</th>\n",
              "      <th>gender</th>\n",
              "      <th>age</th>\n",
              "      <th>yearsmarried</th>\n",
              "      <th>children</th>\n",
              "      <th>religiousness</th>\n",
              "      <th>education</th>\n",
              "      <th>occupation</th>\n",
              "      <th>rating</th>\n",
              "    </tr>\n",
              "  </thead>\n",
              "  <tbody>\n",
              "    <tr>\n",
              "      <th>0</th>\n",
              "      <td>0</td>\n",
              "      <td>male</td>\n",
              "      <td>37.0</td>\n",
              "      <td>10.00</td>\n",
              "      <td>no</td>\n",
              "      <td>3</td>\n",
              "      <td>18</td>\n",
              "      <td>7</td>\n",
              "      <td>4</td>\n",
              "    </tr>\n",
              "    <tr>\n",
              "      <th>1</th>\n",
              "      <td>0</td>\n",
              "      <td>female</td>\n",
              "      <td>27.0</td>\n",
              "      <td>4.00</td>\n",
              "      <td>no</td>\n",
              "      <td>4</td>\n",
              "      <td>14</td>\n",
              "      <td>6</td>\n",
              "      <td>4</td>\n",
              "    </tr>\n",
              "    <tr>\n",
              "      <th>2</th>\n",
              "      <td>0</td>\n",
              "      <td>female</td>\n",
              "      <td>32.0</td>\n",
              "      <td>15.00</td>\n",
              "      <td>yes</td>\n",
              "      <td>1</td>\n",
              "      <td>12</td>\n",
              "      <td>1</td>\n",
              "      <td>4</td>\n",
              "    </tr>\n",
              "    <tr>\n",
              "      <th>3</th>\n",
              "      <td>0</td>\n",
              "      <td>male</td>\n",
              "      <td>57.0</td>\n",
              "      <td>15.00</td>\n",
              "      <td>yes</td>\n",
              "      <td>5</td>\n",
              "      <td>18</td>\n",
              "      <td>6</td>\n",
              "      <td>5</td>\n",
              "    </tr>\n",
              "    <tr>\n",
              "      <th>4</th>\n",
              "      <td>0</td>\n",
              "      <td>male</td>\n",
              "      <td>22.0</td>\n",
              "      <td>0.75</td>\n",
              "      <td>no</td>\n",
              "      <td>2</td>\n",
              "      <td>17</td>\n",
              "      <td>6</td>\n",
              "      <td>3</td>\n",
              "    </tr>\n",
              "    <tr>\n",
              "      <th>...</th>\n",
              "      <td>...</td>\n",
              "      <td>...</td>\n",
              "      <td>...</td>\n",
              "      <td>...</td>\n",
              "      <td>...</td>\n",
              "      <td>...</td>\n",
              "      <td>...</td>\n",
              "      <td>...</td>\n",
              "      <td>...</td>\n",
              "    </tr>\n",
              "    <tr>\n",
              "      <th>596</th>\n",
              "      <td>1</td>\n",
              "      <td>male</td>\n",
              "      <td>22.0</td>\n",
              "      <td>1.50</td>\n",
              "      <td>yes</td>\n",
              "      <td>1</td>\n",
              "      <td>12</td>\n",
              "      <td>2</td>\n",
              "      <td>5</td>\n",
              "    </tr>\n",
              "    <tr>\n",
              "      <th>597</th>\n",
              "      <td>7</td>\n",
              "      <td>female</td>\n",
              "      <td>32.0</td>\n",
              "      <td>10.00</td>\n",
              "      <td>yes</td>\n",
              "      <td>2</td>\n",
              "      <td>18</td>\n",
              "      <td>5</td>\n",
              "      <td>4</td>\n",
              "    </tr>\n",
              "    <tr>\n",
              "      <th>598</th>\n",
              "      <td>2</td>\n",
              "      <td>male</td>\n",
              "      <td>32.0</td>\n",
              "      <td>10.00</td>\n",
              "      <td>yes</td>\n",
              "      <td>2</td>\n",
              "      <td>17</td>\n",
              "      <td>6</td>\n",
              "      <td>5</td>\n",
              "    </tr>\n",
              "    <tr>\n",
              "      <th>599</th>\n",
              "      <td>2</td>\n",
              "      <td>male</td>\n",
              "      <td>22.0</td>\n",
              "      <td>7.00</td>\n",
              "      <td>yes</td>\n",
              "      <td>3</td>\n",
              "      <td>18</td>\n",
              "      <td>6</td>\n",
              "      <td>2</td>\n",
              "    </tr>\n",
              "    <tr>\n",
              "      <th>600</th>\n",
              "      <td>1</td>\n",
              "      <td>female</td>\n",
              "      <td>32.0</td>\n",
              "      <td>15.00</td>\n",
              "      <td>yes</td>\n",
              "      <td>3</td>\n",
              "      <td>14</td>\n",
              "      <td>1</td>\n",
              "      <td>5</td>\n",
              "    </tr>\n",
              "  </tbody>\n",
              "</table>\n",
              "<p>601 rows × 9 columns</p>\n",
              "</div>"
            ],
            "text/plain": [
              "     affairs  gender   age  ...  education occupation  rating\n",
              "0          0    male  37.0  ...         18          7       4\n",
              "1          0  female  27.0  ...         14          6       4\n",
              "2          0  female  32.0  ...         12          1       4\n",
              "3          0    male  57.0  ...         18          6       5\n",
              "4          0    male  22.0  ...         17          6       3\n",
              "..       ...     ...   ...  ...        ...        ...     ...\n",
              "596        1    male  22.0  ...         12          2       5\n",
              "597        7  female  32.0  ...         18          5       4\n",
              "598        2    male  32.0  ...         17          6       5\n",
              "599        2    male  22.0  ...         18          6       2\n",
              "600        1  female  32.0  ...         14          1       5\n",
              "\n",
              "[601 rows x 9 columns]"
            ]
          },
          "metadata": {
            "tags": []
          },
          "execution_count": 8
        }
      ]
    },
    {
      "cell_type": "code",
      "metadata": {
        "colab": {
          "base_uri": "https://localhost:8080/",
          "height": 416
        },
        "id": "qtR9a06m831g",
        "outputId": "65da6056-58af-4d54-b0a1-f8e7ac3c815e"
      },
      "source": [
        "affairs_df.iloc[:,[2]]"
      ],
      "execution_count": null,
      "outputs": [
        {
          "output_type": "execute_result",
          "data": {
            "text/html": [
              "<div>\n",
              "<style scoped>\n",
              "    .dataframe tbody tr th:only-of-type {\n",
              "        vertical-align: middle;\n",
              "    }\n",
              "\n",
              "    .dataframe tbody tr th {\n",
              "        vertical-align: top;\n",
              "    }\n",
              "\n",
              "    .dataframe thead th {\n",
              "        text-align: right;\n",
              "    }\n",
              "</style>\n",
              "<table border=\"1\" class=\"dataframe\">\n",
              "  <thead>\n",
              "    <tr style=\"text-align: right;\">\n",
              "      <th></th>\n",
              "      <th>age</th>\n",
              "    </tr>\n",
              "  </thead>\n",
              "  <tbody>\n",
              "    <tr>\n",
              "      <th>0</th>\n",
              "      <td>37.0</td>\n",
              "    </tr>\n",
              "    <tr>\n",
              "      <th>1</th>\n",
              "      <td>27.0</td>\n",
              "    </tr>\n",
              "    <tr>\n",
              "      <th>2</th>\n",
              "      <td>32.0</td>\n",
              "    </tr>\n",
              "    <tr>\n",
              "      <th>3</th>\n",
              "      <td>57.0</td>\n",
              "    </tr>\n",
              "    <tr>\n",
              "      <th>4</th>\n",
              "      <td>22.0</td>\n",
              "    </tr>\n",
              "    <tr>\n",
              "      <th>...</th>\n",
              "      <td>...</td>\n",
              "    </tr>\n",
              "    <tr>\n",
              "      <th>596</th>\n",
              "      <td>22.0</td>\n",
              "    </tr>\n",
              "    <tr>\n",
              "      <th>597</th>\n",
              "      <td>32.0</td>\n",
              "    </tr>\n",
              "    <tr>\n",
              "      <th>598</th>\n",
              "      <td>32.0</td>\n",
              "    </tr>\n",
              "    <tr>\n",
              "      <th>599</th>\n",
              "      <td>22.0</td>\n",
              "    </tr>\n",
              "    <tr>\n",
              "      <th>600</th>\n",
              "      <td>32.0</td>\n",
              "    </tr>\n",
              "  </tbody>\n",
              "</table>\n",
              "<p>601 rows × 1 columns</p>\n",
              "</div>"
            ],
            "text/plain": [
              "      age\n",
              "0    37.0\n",
              "1    27.0\n",
              "2    32.0\n",
              "3    57.0\n",
              "4    22.0\n",
              "..    ...\n",
              "596  22.0\n",
              "597  32.0\n",
              "598  32.0\n",
              "599  22.0\n",
              "600  32.0\n",
              "\n",
              "[601 rows x 1 columns]"
            ]
          },
          "metadata": {
            "tags": []
          },
          "execution_count": 9
        }
      ]
    },
    {
      "cell_type": "code",
      "metadata": {
        "colab": {
          "base_uri": "https://localhost:8080/",
          "height": 387
        },
        "id": "ZTlV7OQ12LKZ",
        "outputId": "02b49ca7-fc74-4b7f-84e3-97ad7d3d2acc"
      },
      "source": [
        "affairs_df.iloc[9:20,[0,2,4]]"
      ],
      "execution_count": null,
      "outputs": [
        {
          "output_type": "execute_result",
          "data": {
            "text/html": [
              "<div>\n",
              "<style scoped>\n",
              "    .dataframe tbody tr th:only-of-type {\n",
              "        vertical-align: middle;\n",
              "    }\n",
              "\n",
              "    .dataframe tbody tr th {\n",
              "        vertical-align: top;\n",
              "    }\n",
              "\n",
              "    .dataframe thead th {\n",
              "        text-align: right;\n",
              "    }\n",
              "</style>\n",
              "<table border=\"1\" class=\"dataframe\">\n",
              "  <thead>\n",
              "    <tr style=\"text-align: right;\">\n",
              "      <th></th>\n",
              "      <th>affairs</th>\n",
              "      <th>age</th>\n",
              "      <th>children</th>\n",
              "    </tr>\n",
              "  </thead>\n",
              "  <tbody>\n",
              "    <tr>\n",
              "      <th>9</th>\n",
              "      <td>0</td>\n",
              "      <td>22.0</td>\n",
              "      <td>no</td>\n",
              "    </tr>\n",
              "    <tr>\n",
              "      <th>10</th>\n",
              "      <td>0</td>\n",
              "      <td>37.0</td>\n",
              "      <td>yes</td>\n",
              "    </tr>\n",
              "    <tr>\n",
              "      <th>11</th>\n",
              "      <td>0</td>\n",
              "      <td>27.0</td>\n",
              "      <td>yes</td>\n",
              "    </tr>\n",
              "    <tr>\n",
              "      <th>12</th>\n",
              "      <td>0</td>\n",
              "      <td>47.0</td>\n",
              "      <td>yes</td>\n",
              "    </tr>\n",
              "    <tr>\n",
              "      <th>13</th>\n",
              "      <td>0</td>\n",
              "      <td>22.0</td>\n",
              "      <td>no</td>\n",
              "    </tr>\n",
              "    <tr>\n",
              "      <th>14</th>\n",
              "      <td>0</td>\n",
              "      <td>27.0</td>\n",
              "      <td>no</td>\n",
              "    </tr>\n",
              "    <tr>\n",
              "      <th>15</th>\n",
              "      <td>0</td>\n",
              "      <td>37.0</td>\n",
              "      <td>yes</td>\n",
              "    </tr>\n",
              "    <tr>\n",
              "      <th>16</th>\n",
              "      <td>0</td>\n",
              "      <td>37.0</td>\n",
              "      <td>yes</td>\n",
              "    </tr>\n",
              "    <tr>\n",
              "      <th>17</th>\n",
              "      <td>0</td>\n",
              "      <td>22.0</td>\n",
              "      <td>no</td>\n",
              "    </tr>\n",
              "    <tr>\n",
              "      <th>18</th>\n",
              "      <td>0</td>\n",
              "      <td>22.0</td>\n",
              "      <td>no</td>\n",
              "    </tr>\n",
              "    <tr>\n",
              "      <th>19</th>\n",
              "      <td>0</td>\n",
              "      <td>27.0</td>\n",
              "      <td>yes</td>\n",
              "    </tr>\n",
              "  </tbody>\n",
              "</table>\n",
              "</div>"
            ],
            "text/plain": [
              "    affairs   age children\n",
              "9         0  22.0       no\n",
              "10        0  37.0      yes\n",
              "11        0  27.0      yes\n",
              "12        0  47.0      yes\n",
              "13        0  22.0       no\n",
              "14        0  27.0       no\n",
              "15        0  37.0      yes\n",
              "16        0  37.0      yes\n",
              "17        0  22.0       no\n",
              "18        0  22.0       no\n",
              "19        0  27.0      yes"
            ]
          },
          "metadata": {
            "tags": []
          },
          "execution_count": 10
        }
      ]
    },
    {
      "cell_type": "code",
      "metadata": {
        "colab": {
          "base_uri": "https://localhost:8080/",
          "height": 416
        },
        "id": "gfFyigGN4zox",
        "outputId": "2c5041a3-d85a-4fd7-f29b-e18de0e370ff"
      },
      "source": [
        "maleTable = affairs_df[affairs_df.gender == \"male\"]\n",
        "maleTable"
      ],
      "execution_count": null,
      "outputs": [
        {
          "output_type": "execute_result",
          "data": {
            "text/html": [
              "<div>\n",
              "<style scoped>\n",
              "    .dataframe tbody tr th:only-of-type {\n",
              "        vertical-align: middle;\n",
              "    }\n",
              "\n",
              "    .dataframe tbody tr th {\n",
              "        vertical-align: top;\n",
              "    }\n",
              "\n",
              "    .dataframe thead th {\n",
              "        text-align: right;\n",
              "    }\n",
              "</style>\n",
              "<table border=\"1\" class=\"dataframe\">\n",
              "  <thead>\n",
              "    <tr style=\"text-align: right;\">\n",
              "      <th></th>\n",
              "      <th>affairs</th>\n",
              "      <th>gender</th>\n",
              "      <th>age</th>\n",
              "      <th>yearsmarried</th>\n",
              "      <th>children</th>\n",
              "      <th>religiousness</th>\n",
              "      <th>education</th>\n",
              "      <th>occupation</th>\n",
              "      <th>rating</th>\n",
              "    </tr>\n",
              "  </thead>\n",
              "  <tbody>\n",
              "    <tr>\n",
              "      <th>0</th>\n",
              "      <td>0</td>\n",
              "      <td>male</td>\n",
              "      <td>37.0</td>\n",
              "      <td>10.00</td>\n",
              "      <td>no</td>\n",
              "      <td>3</td>\n",
              "      <td>18</td>\n",
              "      <td>7</td>\n",
              "      <td>4</td>\n",
              "    </tr>\n",
              "    <tr>\n",
              "      <th>3</th>\n",
              "      <td>0</td>\n",
              "      <td>male</td>\n",
              "      <td>57.0</td>\n",
              "      <td>15.00</td>\n",
              "      <td>yes</td>\n",
              "      <td>5</td>\n",
              "      <td>18</td>\n",
              "      <td>6</td>\n",
              "      <td>5</td>\n",
              "    </tr>\n",
              "    <tr>\n",
              "      <th>4</th>\n",
              "      <td>0</td>\n",
              "      <td>male</td>\n",
              "      <td>22.0</td>\n",
              "      <td>0.75</td>\n",
              "      <td>no</td>\n",
              "      <td>2</td>\n",
              "      <td>17</td>\n",
              "      <td>6</td>\n",
              "      <td>3</td>\n",
              "    </tr>\n",
              "    <tr>\n",
              "      <th>7</th>\n",
              "      <td>0</td>\n",
              "      <td>male</td>\n",
              "      <td>57.0</td>\n",
              "      <td>15.00</td>\n",
              "      <td>yes</td>\n",
              "      <td>2</td>\n",
              "      <td>14</td>\n",
              "      <td>4</td>\n",
              "      <td>4</td>\n",
              "    </tr>\n",
              "    <tr>\n",
              "      <th>9</th>\n",
              "      <td>0</td>\n",
              "      <td>male</td>\n",
              "      <td>22.0</td>\n",
              "      <td>1.50</td>\n",
              "      <td>no</td>\n",
              "      <td>4</td>\n",
              "      <td>14</td>\n",
              "      <td>4</td>\n",
              "      <td>5</td>\n",
              "    </tr>\n",
              "    <tr>\n",
              "      <th>...</th>\n",
              "      <td>...</td>\n",
              "      <td>...</td>\n",
              "      <td>...</td>\n",
              "      <td>...</td>\n",
              "      <td>...</td>\n",
              "      <td>...</td>\n",
              "      <td>...</td>\n",
              "      <td>...</td>\n",
              "      <td>...</td>\n",
              "    </tr>\n",
              "    <tr>\n",
              "      <th>594</th>\n",
              "      <td>3</td>\n",
              "      <td>male</td>\n",
              "      <td>32.0</td>\n",
              "      <td>10.00</td>\n",
              "      <td>yes</td>\n",
              "      <td>4</td>\n",
              "      <td>14</td>\n",
              "      <td>4</td>\n",
              "      <td>3</td>\n",
              "    </tr>\n",
              "    <tr>\n",
              "      <th>595</th>\n",
              "      <td>7</td>\n",
              "      <td>male</td>\n",
              "      <td>47.0</td>\n",
              "      <td>15.00</td>\n",
              "      <td>yes</td>\n",
              "      <td>3</td>\n",
              "      <td>16</td>\n",
              "      <td>4</td>\n",
              "      <td>2</td>\n",
              "    </tr>\n",
              "    <tr>\n",
              "      <th>596</th>\n",
              "      <td>1</td>\n",
              "      <td>male</td>\n",
              "      <td>22.0</td>\n",
              "      <td>1.50</td>\n",
              "      <td>yes</td>\n",
              "      <td>1</td>\n",
              "      <td>12</td>\n",
              "      <td>2</td>\n",
              "      <td>5</td>\n",
              "    </tr>\n",
              "    <tr>\n",
              "      <th>598</th>\n",
              "      <td>2</td>\n",
              "      <td>male</td>\n",
              "      <td>32.0</td>\n",
              "      <td>10.00</td>\n",
              "      <td>yes</td>\n",
              "      <td>2</td>\n",
              "      <td>17</td>\n",
              "      <td>6</td>\n",
              "      <td>5</td>\n",
              "    </tr>\n",
              "    <tr>\n",
              "      <th>599</th>\n",
              "      <td>2</td>\n",
              "      <td>male</td>\n",
              "      <td>22.0</td>\n",
              "      <td>7.00</td>\n",
              "      <td>yes</td>\n",
              "      <td>3</td>\n",
              "      <td>18</td>\n",
              "      <td>6</td>\n",
              "      <td>2</td>\n",
              "    </tr>\n",
              "  </tbody>\n",
              "</table>\n",
              "<p>286 rows × 9 columns</p>\n",
              "</div>"
            ],
            "text/plain": [
              "     affairs gender   age  ...  education occupation  rating\n",
              "0          0   male  37.0  ...         18          7       4\n",
              "3          0   male  57.0  ...         18          6       5\n",
              "4          0   male  22.0  ...         17          6       3\n",
              "7          0   male  57.0  ...         14          4       4\n",
              "9          0   male  22.0  ...         14          4       5\n",
              "..       ...    ...   ...  ...        ...        ...     ...\n",
              "594        3   male  32.0  ...         14          4       3\n",
              "595        7   male  47.0  ...         16          4       2\n",
              "596        1   male  22.0  ...         12          2       5\n",
              "598        2   male  32.0  ...         17          6       5\n",
              "599        2   male  22.0  ...         18          6       2\n",
              "\n",
              "[286 rows x 9 columns]"
            ]
          },
          "metadata": {
            "tags": []
          },
          "execution_count": 11
        }
      ]
    },
    {
      "cell_type": "code",
      "metadata": {
        "colab": {
          "base_uri": "https://localhost:8080/",
          "height": 295
        },
        "id": "mdoRd1FB6y20",
        "outputId": "317dc5f7-6911-4168-fbdf-5d3bc5b7ef2c"
      },
      "source": [
        "affairs_df.describe()"
      ],
      "execution_count": null,
      "outputs": [
        {
          "output_type": "execute_result",
          "data": {
            "text/html": [
              "<div>\n",
              "<style scoped>\n",
              "    .dataframe tbody tr th:only-of-type {\n",
              "        vertical-align: middle;\n",
              "    }\n",
              "\n",
              "    .dataframe tbody tr th {\n",
              "        vertical-align: top;\n",
              "    }\n",
              "\n",
              "    .dataframe thead th {\n",
              "        text-align: right;\n",
              "    }\n",
              "</style>\n",
              "<table border=\"1\" class=\"dataframe\">\n",
              "  <thead>\n",
              "    <tr style=\"text-align: right;\">\n",
              "      <th></th>\n",
              "      <th>affairs</th>\n",
              "      <th>age</th>\n",
              "      <th>yearsmarried</th>\n",
              "      <th>religiousness</th>\n",
              "      <th>education</th>\n",
              "      <th>occupation</th>\n",
              "      <th>rating</th>\n",
              "    </tr>\n",
              "  </thead>\n",
              "  <tbody>\n",
              "    <tr>\n",
              "      <th>count</th>\n",
              "      <td>601.000000</td>\n",
              "      <td>601.000000</td>\n",
              "      <td>601.000000</td>\n",
              "      <td>601.000000</td>\n",
              "      <td>601.000000</td>\n",
              "      <td>601.000000</td>\n",
              "      <td>601.000000</td>\n",
              "    </tr>\n",
              "    <tr>\n",
              "      <th>mean</th>\n",
              "      <td>1.455907</td>\n",
              "      <td>32.487521</td>\n",
              "      <td>8.177696</td>\n",
              "      <td>3.116473</td>\n",
              "      <td>16.166389</td>\n",
              "      <td>4.194676</td>\n",
              "      <td>3.931780</td>\n",
              "    </tr>\n",
              "    <tr>\n",
              "      <th>std</th>\n",
              "      <td>3.298758</td>\n",
              "      <td>9.288762</td>\n",
              "      <td>5.571303</td>\n",
              "      <td>1.167509</td>\n",
              "      <td>2.402555</td>\n",
              "      <td>1.819443</td>\n",
              "      <td>1.103179</td>\n",
              "    </tr>\n",
              "    <tr>\n",
              "      <th>min</th>\n",
              "      <td>0.000000</td>\n",
              "      <td>17.500000</td>\n",
              "      <td>0.125000</td>\n",
              "      <td>1.000000</td>\n",
              "      <td>9.000000</td>\n",
              "      <td>1.000000</td>\n",
              "      <td>1.000000</td>\n",
              "    </tr>\n",
              "    <tr>\n",
              "      <th>25%</th>\n",
              "      <td>0.000000</td>\n",
              "      <td>27.000000</td>\n",
              "      <td>4.000000</td>\n",
              "      <td>2.000000</td>\n",
              "      <td>14.000000</td>\n",
              "      <td>3.000000</td>\n",
              "      <td>3.000000</td>\n",
              "    </tr>\n",
              "    <tr>\n",
              "      <th>50%</th>\n",
              "      <td>0.000000</td>\n",
              "      <td>32.000000</td>\n",
              "      <td>7.000000</td>\n",
              "      <td>3.000000</td>\n",
              "      <td>16.000000</td>\n",
              "      <td>5.000000</td>\n",
              "      <td>4.000000</td>\n",
              "    </tr>\n",
              "    <tr>\n",
              "      <th>75%</th>\n",
              "      <td>0.000000</td>\n",
              "      <td>37.000000</td>\n",
              "      <td>15.000000</td>\n",
              "      <td>4.000000</td>\n",
              "      <td>18.000000</td>\n",
              "      <td>6.000000</td>\n",
              "      <td>5.000000</td>\n",
              "    </tr>\n",
              "    <tr>\n",
              "      <th>max</th>\n",
              "      <td>12.000000</td>\n",
              "      <td>57.000000</td>\n",
              "      <td>15.000000</td>\n",
              "      <td>5.000000</td>\n",
              "      <td>20.000000</td>\n",
              "      <td>7.000000</td>\n",
              "      <td>5.000000</td>\n",
              "    </tr>\n",
              "  </tbody>\n",
              "</table>\n",
              "</div>"
            ],
            "text/plain": [
              "          affairs         age  yearsmarried  ...   education  occupation      rating\n",
              "count  601.000000  601.000000    601.000000  ...  601.000000  601.000000  601.000000\n",
              "mean     1.455907   32.487521      8.177696  ...   16.166389    4.194676    3.931780\n",
              "std      3.298758    9.288762      5.571303  ...    2.402555    1.819443    1.103179\n",
              "min      0.000000   17.500000      0.125000  ...    9.000000    1.000000    1.000000\n",
              "25%      0.000000   27.000000      4.000000  ...   14.000000    3.000000    3.000000\n",
              "50%      0.000000   32.000000      7.000000  ...   16.000000    5.000000    4.000000\n",
              "75%      0.000000   37.000000     15.000000  ...   18.000000    6.000000    5.000000\n",
              "max     12.000000   57.000000     15.000000  ...   20.000000    7.000000    5.000000\n",
              "\n",
              "[8 rows x 7 columns]"
            ]
          },
          "metadata": {
            "tags": []
          },
          "execution_count": 12
        }
      ]
    },
    {
      "cell_type": "code",
      "metadata": {
        "colab": {
          "base_uri": "https://localhost:8080/",
          "height": 295
        },
        "id": "57uvKZ_V64k-",
        "outputId": "a0079244-5de9-4c0b-851f-971a67c20ce5"
      },
      "source": [
        "maleTable_Stats = maleTable.describe()\n",
        "maleTable_Stats"
      ],
      "execution_count": null,
      "outputs": [
        {
          "output_type": "execute_result",
          "data": {
            "text/html": [
              "<div>\n",
              "<style scoped>\n",
              "    .dataframe tbody tr th:only-of-type {\n",
              "        vertical-align: middle;\n",
              "    }\n",
              "\n",
              "    .dataframe tbody tr th {\n",
              "        vertical-align: top;\n",
              "    }\n",
              "\n",
              "    .dataframe thead th {\n",
              "        text-align: right;\n",
              "    }\n",
              "</style>\n",
              "<table border=\"1\" class=\"dataframe\">\n",
              "  <thead>\n",
              "    <tr style=\"text-align: right;\">\n",
              "      <th></th>\n",
              "      <th>affairs</th>\n",
              "      <th>age</th>\n",
              "      <th>yearsmarried</th>\n",
              "      <th>religiousness</th>\n",
              "      <th>education</th>\n",
              "      <th>occupation</th>\n",
              "      <th>rating</th>\n",
              "    </tr>\n",
              "  </thead>\n",
              "  <tbody>\n",
              "    <tr>\n",
              "      <th>count</th>\n",
              "      <td>286.000000</td>\n",
              "      <td>286.000000</td>\n",
              "      <td>286.000000</td>\n",
              "      <td>286.000000</td>\n",
              "      <td>286.000000</td>\n",
              "      <td>286.000000</td>\n",
              "      <td>286.000000</td>\n",
              "    </tr>\n",
              "    <tr>\n",
              "      <th>mean</th>\n",
              "      <td>1.496503</td>\n",
              "      <td>34.344406</td>\n",
              "      <td>8.354608</td>\n",
              "      <td>3.125874</td>\n",
              "      <td>17.167832</td>\n",
              "      <td>5.087413</td>\n",
              "      <td>3.923077</td>\n",
              "    </tr>\n",
              "    <tr>\n",
              "      <th>std</th>\n",
              "      <td>3.292467</td>\n",
              "      <td>9.626959</td>\n",
              "      <td>5.513464</td>\n",
              "      <td>1.204478</td>\n",
              "      <td>2.391464</td>\n",
              "      <td>1.158969</td>\n",
              "      <td>1.053495</td>\n",
              "    </tr>\n",
              "    <tr>\n",
              "      <th>min</th>\n",
              "      <td>0.000000</td>\n",
              "      <td>17.500000</td>\n",
              "      <td>0.125000</td>\n",
              "      <td>1.000000</td>\n",
              "      <td>9.000000</td>\n",
              "      <td>1.000000</td>\n",
              "      <td>1.000000</td>\n",
              "    </tr>\n",
              "    <tr>\n",
              "      <th>25%</th>\n",
              "      <td>0.000000</td>\n",
              "      <td>27.000000</td>\n",
              "      <td>4.000000</td>\n",
              "      <td>2.000000</td>\n",
              "      <td>16.000000</td>\n",
              "      <td>5.000000</td>\n",
              "      <td>3.000000</td>\n",
              "    </tr>\n",
              "    <tr>\n",
              "      <th>50%</th>\n",
              "      <td>0.000000</td>\n",
              "      <td>32.000000</td>\n",
              "      <td>7.000000</td>\n",
              "      <td>3.000000</td>\n",
              "      <td>18.000000</td>\n",
              "      <td>5.000000</td>\n",
              "      <td>4.000000</td>\n",
              "    </tr>\n",
              "    <tr>\n",
              "      <th>75%</th>\n",
              "      <td>1.000000</td>\n",
              "      <td>37.000000</td>\n",
              "      <td>15.000000</td>\n",
              "      <td>4.000000</td>\n",
              "      <td>20.000000</td>\n",
              "      <td>6.000000</td>\n",
              "      <td>5.000000</td>\n",
              "    </tr>\n",
              "    <tr>\n",
              "      <th>max</th>\n",
              "      <td>12.000000</td>\n",
              "      <td>57.000000</td>\n",
              "      <td>15.000000</td>\n",
              "      <td>5.000000</td>\n",
              "      <td>20.000000</td>\n",
              "      <td>7.000000</td>\n",
              "      <td>5.000000</td>\n",
              "    </tr>\n",
              "  </tbody>\n",
              "</table>\n",
              "</div>"
            ],
            "text/plain": [
              "          affairs         age  yearsmarried  ...   education  occupation      rating\n",
              "count  286.000000  286.000000    286.000000  ...  286.000000  286.000000  286.000000\n",
              "mean     1.496503   34.344406      8.354608  ...   17.167832    5.087413    3.923077\n",
              "std      3.292467    9.626959      5.513464  ...    2.391464    1.158969    1.053495\n",
              "min      0.000000   17.500000      0.125000  ...    9.000000    1.000000    1.000000\n",
              "25%      0.000000   27.000000      4.000000  ...   16.000000    5.000000    3.000000\n",
              "50%      0.000000   32.000000      7.000000  ...   18.000000    5.000000    4.000000\n",
              "75%      1.000000   37.000000     15.000000  ...   20.000000    6.000000    5.000000\n",
              "max     12.000000   57.000000     15.000000  ...   20.000000    7.000000    5.000000\n",
              "\n",
              "[8 rows x 7 columns]"
            ]
          },
          "metadata": {
            "tags": []
          },
          "execution_count": 13
        }
      ]
    },
    {
      "cell_type": "code",
      "metadata": {
        "colab": {
          "base_uri": "https://localhost:8080/"
        },
        "id": "meOCIOf47Sac",
        "outputId": "05d8b4b9-6bbb-498c-9179-8a5a259c6b78"
      },
      "source": [
        "maleTable_Stats.age[\"mean\"]"
      ],
      "execution_count": null,
      "outputs": [
        {
          "output_type": "execute_result",
          "data": {
            "text/plain": [
              "34.34440559440559"
            ]
          },
          "metadata": {
            "tags": []
          },
          "execution_count": 14
        }
      ]
    },
    {
      "cell_type": "markdown",
      "metadata": {
        "id": "nggUvGND9lnB"
      },
      "source": [
        "# Ploting in pythong\n",
        "MatPlotLib"
      ]
    },
    {
      "cell_type": "code",
      "metadata": {
        "id": "t948Iu-k8OGL"
      },
      "source": [
        "%matplotlib inline\n",
        "from matplotlib import pyplot as pl\n",
        "import numpy as np"
      ],
      "execution_count": null,
      "outputs": []
    },
    {
      "cell_type": "code",
      "metadata": {
        "colab": {
          "base_uri": "https://localhost:8080/",
          "height": 281
        },
        "id": "FOaskvQO-CSq",
        "outputId": "238843b4-c8fc-458f-f017-19c713844562"
      },
      "source": [
        "x = [1,5,6,7,5,3,7]\n",
        "pl.plot(x)"
      ],
      "execution_count": null,
      "outputs": [
        {
          "output_type": "execute_result",
          "data": {
            "text/plain": [
              "[<matplotlib.lines.Line2D at 0x7fcc353f80d0>]"
            ]
          },
          "metadata": {
            "tags": []
          },
          "execution_count": 16
        },
        {
          "output_type": "display_data",
          "data": {
            "image/png": "[encoded data removed]",
            "text/plain": [
              "<Figure size 432x288 with 1 Axes>"
            ]
          },
          "metadata": {
            "tags": [],
            "needs_background": "light"
          }
        }
      ]
    },
    {
      "cell_type": "code",
      "metadata": {
        "colab": {
          "base_uri": "https://localhost:8080/",
          "height": 281
        },
        "id": "-i1FIBi0-H57",
        "outputId": "8548e350-2996-4148-de62-85e18abc0436"
      },
      "source": [
        "x = np.random.rand(25)\n",
        "pl.plot(x)"
      ],
      "execution_count": null,
      "outputs": [
        {
          "output_type": "execute_result",
          "data": {
            "text/plain": [
              "[<matplotlib.lines.Line2D at 0x7fcc1c0ce110>]"
            ]
          },
          "metadata": {
            "tags": []
          },
          "execution_count": 17
        },
        {
          "output_type": "display_data",
          "data": {
            "image/png": "[encoded data removed]",
            "text/plain": [
              "<Figure size 432x288 with 1 Axes>"
            ]
          },
          "metadata": {
            "tags": [],
            "needs_background": "light"
          }
        }
      ]
    },
    {
      "cell_type": "code",
      "metadata": {
        "colab": {
          "base_uri": "https://localhost:8080/",
          "height": 281
        },
        "id": "GdjKIaal-dKK",
        "outputId": "1dd22dd7-6704-4a84-a825-fec8a8d568e6"
      },
      "source": [
        "pl.plot(x,\"--\")"
      ],
      "execution_count": null,
      "outputs": [
        {
          "output_type": "execute_result",
          "data": {
            "text/plain": [
              "[<matplotlib.lines.Line2D at 0x7fa1c185c250>]"
            ]
          },
          "metadata": {
            "tags": []
          },
          "execution_count": 30
        },
        {
          "output_type": "display_data",
          "data": {
            "image/png": "[encoded data removed]",
            "text/plain": [
              "<Figure size 432x288 with 1 Axes>"
            ]
          },
          "metadata": {
            "tags": [],
            "needs_background": "light"
          }
        }
      ]
    },
    {
      "cell_type": "code",
      "metadata": {
        "colab": {
          "base_uri": "https://localhost:8080/",
          "height": 281
        },
        "id": "32pHZtKu-21B",
        "outputId": "d515bcd4-5899-432d-819c-e483a98daa18"
      },
      "source": [
        "pl.plot(x,\".-\")"
      ],
      "execution_count": null,
      "outputs": [
        {
          "output_type": "execute_result",
          "data": {
            "text/plain": [
              "[<matplotlib.lines.Line2D at 0x7fa1c17d15d0>]"
            ]
          },
          "metadata": {
            "tags": []
          },
          "execution_count": 31
        },
        {
          "output_type": "display_data",
          "data": {
            "image/png": "[encoded data removed]",
            "text/plain": [
              "<Figure size 432x288 with 1 Axes>"
            ]
          },
          "metadata": {
            "tags": [],
            "needs_background": "light"
          }
        }
      ]
    },
    {
      "cell_type": "code",
      "metadata": {
        "colab": {
          "base_uri": "https://localhost:8080/",
          "height": 281
        },
        "id": "YUpywNiu-5FS",
        "outputId": "403c67b7-0b0f-4eea-e15e-bdccf7c51ace"
      },
      "source": [
        "pl.plot(x,\"r.--\", ms = 10)"
      ],
      "execution_count": null,
      "outputs": [
        {
          "output_type": "execute_result",
          "data": {
            "text/plain": [
              "[<matplotlib.lines.Line2D at 0x7fa1c1705090>]"
            ]
          },
          "metadata": {
            "tags": []
          },
          "execution_count": 39
        },
        {
          "output_type": "display_data",
          "data": {
            "image/png": "[encoded data removed]",
            "text/plain": [
              "<Figure size 432x288 with 1 Axes>"
            ]
          },
          "metadata": {
            "tags": [],
            "needs_background": "light"
          }
        }
      ]
    },
    {
      "cell_type": "code",
      "metadata": {
        "colab": {
          "base_uri": "https://localhost:8080/",
          "height": 281
        },
        "id": "XlAlyJFj-7ur",
        "outputId": "e6be64cd-074b-496c-c489-d2353054e8f9"
      },
      "source": [
        "pl.plot(x,\"k.--\", ms = 10)"
      ],
      "execution_count": null,
      "outputs": [
        {
          "output_type": "execute_result",
          "data": {
            "text/plain": [
              "[<matplotlib.lines.Line2D at 0x7fa1c15449d0>]"
            ]
          },
          "metadata": {
            "tags": []
          },
          "execution_count": 37
        },
        {
          "output_type": "display_data",
          "data": {
            "image/png": "[encoded data removed]",
            "text/plain": [
              "<Figure size 432x288 with 1 Axes>"
            ]
          },
          "metadata": {
            "tags": [],
            "needs_background": "light"
          }
        }
      ]
    },
    {
      "cell_type": "code",
      "metadata": {
        "colab": {
          "base_uri": "https://localhost:8080/",
          "height": 281
        },
        "id": "R4JkvCZq_On2",
        "outputId": "09909795-0e76-43d1-81dd-495809a12926"
      },
      "source": [
        "pl.plot(x,\"b.--\", ms = 10)"
      ],
      "execution_count": null,
      "outputs": [
        {
          "output_type": "execute_result",
          "data": {
            "text/plain": [
              "[<matplotlib.lines.Line2D at 0x7fa1c1a187d0>]"
            ]
          },
          "metadata": {
            "tags": []
          },
          "execution_count": 38
        },
        {
          "output_type": "display_data",
          "data": {
            "image/png": "[encoded data removed]",
            "text/plain": [
              "<Figure size 432x288 with 1 Axes>"
            ]
          },
          "metadata": {
            "tags": [],
            "needs_background": "light"
          }
        }
      ]
    },
    {
      "cell_type": "code",
      "metadata": {
        "colab": {
          "base_uri": "https://localhost:8080/",
          "height": 400
        },
        "id": "Buqn1qcr_Plc",
        "outputId": "c0bab2b8-ed31-4f43-f478-c526d74f7d52"
      },
      "source": [
        "pl.boxplot(x)"
      ],
      "execution_count": null,
      "outputs": [
        {
          "output_type": "execute_result",
          "data": {
            "text/plain": [
              "{'boxes': [<matplotlib.lines.Line2D at 0x7fcc1c0a69d0>],\n",
              " 'caps': [<matplotlib.lines.Line2D at 0x7fcc1bfd0a10>,\n",
              "  <matplotlib.lines.Line2D at 0x7fcc1bfd0f50>],\n",
              " 'fliers': [<matplotlib.lines.Line2D at 0x7fcc1bfd5a50>],\n",
              " 'means': [],\n",
              " 'medians': [<matplotlib.lines.Line2D at 0x7fcc1bfd5510>],\n",
              " 'whiskers': [<matplotlib.lines.Line2D at 0x7fcc1c0a6f50>,\n",
              "  <matplotlib.lines.Line2D at 0x7fcc1bfd04d0>]}"
            ]
          },
          "metadata": {
            "tags": []
          },
          "execution_count": 18
        },
        {
          "output_type": "display_data",
          "data": {
            "image/png": "[encoded data removed]",
            "text/plain": [
              "<Figure size 432x288 with 1 Axes>"
            ]
          },
          "metadata": {
            "tags": [],
            "needs_background": "light"
          }
        }
      ]
    },
    {
      "cell_type": "markdown",
      "metadata": {
        "id": "-e2HgURE_2Jk"
      },
      "source": [
        "Seaborn"
      ]
    },
    {
      "cell_type": "code",
      "metadata": {
        "colab": {
          "base_uri": "https://localhost:8080/",
          "height": 416
        },
        "id": "T1zMY6T3_kfV",
        "outputId": "8f0befe9-4ef1-4280-a753-ab6f3da58387"
      },
      "source": [
        "weight_df = pd.read_csv(\"https://raw.githubusercontent.com/mark-andrews/intro2pystats/master/data/weight.csv\")\n",
        "weight_df"
      ],
      "execution_count": null,
      "outputs": [
        {
          "output_type": "execute_result",
          "data": {
            "text/html": [
              "<div>\n",
              "<style scoped>\n",
              "    .dataframe tbody tr th:only-of-type {\n",
              "        vertical-align: middle;\n",
              "    }\n",
              "\n",
              "    .dataframe tbody tr th {\n",
              "        vertical-align: top;\n",
              "    }\n",
              "\n",
              "    .dataframe thead th {\n",
              "        text-align: right;\n",
              "    }\n",
              "</style>\n",
              "<table border=\"1\" class=\"dataframe\">\n",
              "  <thead>\n",
              "    <tr style=\"text-align: right;\">\n",
              "      <th></th>\n",
              "      <th>subjectid</th>\n",
              "      <th>gender</th>\n",
              "      <th>height</th>\n",
              "      <th>weight</th>\n",
              "      <th>handedness</th>\n",
              "      <th>age</th>\n",
              "      <th>race</th>\n",
              "    </tr>\n",
              "  </thead>\n",
              "  <tbody>\n",
              "    <tr>\n",
              "      <th>0</th>\n",
              "      <td>10027</td>\n",
              "      <td>male</td>\n",
              "      <td>177.6</td>\n",
              "      <td>81.5</td>\n",
              "      <td>right</td>\n",
              "      <td>41</td>\n",
              "      <td>white</td>\n",
              "    </tr>\n",
              "    <tr>\n",
              "      <th>1</th>\n",
              "      <td>10032</td>\n",
              "      <td>male</td>\n",
              "      <td>170.2</td>\n",
              "      <td>72.6</td>\n",
              "      <td>left</td>\n",
              "      <td>35</td>\n",
              "      <td>white</td>\n",
              "    </tr>\n",
              "    <tr>\n",
              "      <th>2</th>\n",
              "      <td>10033</td>\n",
              "      <td>male</td>\n",
              "      <td>173.5</td>\n",
              "      <td>92.9</td>\n",
              "      <td>left</td>\n",
              "      <td>42</td>\n",
              "      <td>black</td>\n",
              "    </tr>\n",
              "    <tr>\n",
              "      <th>3</th>\n",
              "      <td>10092</td>\n",
              "      <td>male</td>\n",
              "      <td>165.5</td>\n",
              "      <td>79.4</td>\n",
              "      <td>right</td>\n",
              "      <td>31</td>\n",
              "      <td>white</td>\n",
              "    </tr>\n",
              "    <tr>\n",
              "      <th>4</th>\n",
              "      <td>10093</td>\n",
              "      <td>male</td>\n",
              "      <td>191.4</td>\n",
              "      <td>94.6</td>\n",
              "      <td>right</td>\n",
              "      <td>21</td>\n",
              "      <td>black</td>\n",
              "    </tr>\n",
              "    <tr>\n",
              "      <th>...</th>\n",
              "      <td>...</td>\n",
              "      <td>...</td>\n",
              "      <td>...</td>\n",
              "      <td>...</td>\n",
              "      <td>...</td>\n",
              "      <td>...</td>\n",
              "      <td>...</td>\n",
              "    </tr>\n",
              "    <tr>\n",
              "      <th>6063</th>\n",
              "      <td>29501</td>\n",
              "      <td>female</td>\n",
              "      <td>168.7</td>\n",
              "      <td>83.2</td>\n",
              "      <td>right</td>\n",
              "      <td>51</td>\n",
              "      <td>hispanic</td>\n",
              "    </tr>\n",
              "    <tr>\n",
              "      <th>6064</th>\n",
              "      <td>29502</td>\n",
              "      <td>female</td>\n",
              "      <td>161.3</td>\n",
              "      <td>71.7</td>\n",
              "      <td>right</td>\n",
              "      <td>40</td>\n",
              "      <td>hispanic</td>\n",
              "    </tr>\n",
              "    <tr>\n",
              "      <th>6065</th>\n",
              "      <td>29503</td>\n",
              "      <td>female</td>\n",
              "      <td>164.4</td>\n",
              "      <td>76.2</td>\n",
              "      <td>right</td>\n",
              "      <td>40</td>\n",
              "      <td>black</td>\n",
              "    </tr>\n",
              "    <tr>\n",
              "      <th>6066</th>\n",
              "      <td>29511</td>\n",
              "      <td>female</td>\n",
              "      <td>161.6</td>\n",
              "      <td>63.2</td>\n",
              "      <td>right</td>\n",
              "      <td>31</td>\n",
              "      <td>hispanic</td>\n",
              "    </tr>\n",
              "    <tr>\n",
              "      <th>6067</th>\n",
              "      <td>920103</td>\n",
              "      <td>female</td>\n",
              "      <td>164.1</td>\n",
              "      <td>61.0</td>\n",
              "      <td>right</td>\n",
              "      <td>27</td>\n",
              "      <td>hispanic</td>\n",
              "    </tr>\n",
              "  </tbody>\n",
              "</table>\n",
              "<p>6068 rows × 7 columns</p>\n",
              "</div>"
            ],
            "text/plain": [
              "      subjectid  gender  height  weight handedness  age      race\n",
              "0         10027    male   177.6    81.5      right   41     white\n",
              "1         10032    male   170.2    72.6       left   35     white\n",
              "2         10033    male   173.5    92.9       left   42     black\n",
              "3         10092    male   165.5    79.4      right   31     white\n",
              "4         10093    male   191.4    94.6      right   21     black\n",
              "...         ...     ...     ...     ...        ...  ...       ...\n",
              "6063      29501  female   168.7    83.2      right   51  hispanic\n",
              "6064      29502  female   161.3    71.7      right   40  hispanic\n",
              "6065      29503  female   164.4    76.2      right   40     black\n",
              "6066      29511  female   161.6    63.2      right   31  hispanic\n",
              "6067     920103  female   164.1    61.0      right   27  hispanic\n",
              "\n",
              "[6068 rows x 7 columns]"
            ]
          },
          "metadata": {
            "tags": []
          },
          "execution_count": 19
        }
      ]
    },
    {
      "cell_type": "code",
      "metadata": {
        "id": "qUHODtlz_9UH"
      },
      "source": [
        "import seaborn as sns"
      ],
      "execution_count": null,
      "outputs": []
    },
    {
      "cell_type": "code",
      "metadata": {
        "colab": {
          "base_uri": "https://localhost:8080/",
          "height": 296
        },
        "id": "NTO4TNMYAPdb",
        "outputId": "621c0820-2ea9-4d19-e6f3-99a92b88b830"
      },
      "source": [
        "sns.scatterplot(x = \"height\", y = \"weight\", data = weight_df)"
      ],
      "execution_count": null,
      "outputs": [
        {
          "output_type": "execute_result",
          "data": {
            "text/plain": [
              "<matplotlib.axes._subplots.AxesSubplot at 0x7fcc1bf8fa10>"
            ]
          },
          "metadata": {
            "tags": []
          },
          "execution_count": 21
        },
        {
          "output_type": "display_data",
          "data": {
            "image/png": "[encoded data removed]",
            "text/plain": [
              "<Figure size 432x288 with 1 Axes>"
            ]
          },
          "metadata": {
            "tags": [],
            "needs_background": "light"
          }
        }
      ]
    },
    {
      "cell_type": "code",
      "metadata": {
        "id": "V5Jrxn6PAbM8",
        "colab": {
          "base_uri": "https://localhost:8080/",
          "height": 296
        },
        "outputId": "e73f09f9-df9d-4d68-8e2b-5095026e2d38"
      },
      "source": [
        "sns.scatterplot(x = \"height\", y = \"weight\", hue = \"gender\", data = weight_df)"
      ],
      "execution_count": null,
      "outputs": [
        {
          "output_type": "execute_result",
          "data": {
            "text/plain": [
              "<matplotlib.axes._subplots.AxesSubplot at 0x7fcc1ace5c10>"
            ]
          },
          "metadata": {
            "tags": []
          },
          "execution_count": 22
        },
        {
          "output_type": "display_data",
          "data": {
            "image/png": "[encoded data removed]",
            "text/plain": [
              "<Figure size 432x288 with 1 Axes>"
            ]
          },
          "metadata": {
            "tags": [],
            "needs_background": "light"
          }
        }
      ]
    },
    {
      "cell_type": "code",
      "metadata": {
        "colab": {
          "base_uri": "https://localhost:8080/",
          "height": 296
        },
        "id": "rgk4T-EYeHzM",
        "outputId": "db20db8e-d779-4357-f7d2-7088c4ff3cda"
      },
      "source": [
        "sns.boxplot(y=\"weight\", x = \"gender\", data = weight_df)"
      ],
      "execution_count": null,
      "outputs": [
        {
          "output_type": "execute_result",
          "data": {
            "text/plain": [
              "<matplotlib.axes._subplots.AxesSubplot at 0x7fcc193c8e10>"
            ]
          },
          "metadata": {
            "tags": []
          },
          "execution_count": 23
        },
        {
          "output_type": "display_data",
          "data": {
            "image/png": "[encoded data removed]",
            "text/plain": [
              "<Figure size 432x288 with 1 Axes>"
            ]
          },
          "metadata": {
            "tags": [],
            "needs_background": "light"
          }
        }
      ]
    },
    {
      "cell_type": "code",
      "metadata": {
        "colab": {
          "base_uri": "https://localhost:8080/",
          "height": 416
        },
        "id": "QPMGVOzQ3CR8",
        "outputId": "8d9c61e4-1d95-47ca-b8d7-ebec1f1413b8"
      },
      "source": [
        "tips = sns.load_dataset(\"tips\")\n",
        "tips"
      ],
      "execution_count": null,
      "outputs": [
        {
          "output_type": "execute_result",
          "data": {
            "text/html": [
              "<div>\n",
              "<style scoped>\n",
              "    .dataframe tbody tr th:only-of-type {\n",
              "        vertical-align: middle;\n",
              "    }\n",
              "\n",
              "    .dataframe tbody tr th {\n",
              "        vertical-align: top;\n",
              "    }\n",
              "\n",
              "    .dataframe thead th {\n",
              "        text-align: right;\n",
              "    }\n",
              "</style>\n",
              "<table border=\"1\" class=\"dataframe\">\n",
              "  <thead>\n",
              "    <tr style=\"text-align: right;\">\n",
              "      <th></th>\n",
              "      <th>total_bill</th>\n",
              "      <th>tip</th>\n",
              "      <th>sex</th>\n",
              "      <th>smoker</th>\n",
              "      <th>day</th>\n",
              "      <th>time</th>\n",
              "      <th>size</th>\n",
              "    </tr>\n",
              "  </thead>\n",
              "  <tbody>\n",
              "    <tr>\n",
              "      <th>0</th>\n",
              "      <td>16.99</td>\n",
              "      <td>1.01</td>\n",
              "      <td>Female</td>\n",
              "      <td>No</td>\n",
              "      <td>Sun</td>\n",
              "      <td>Dinner</td>\n",
              "      <td>2</td>\n",
              "    </tr>\n",
              "    <tr>\n",
              "      <th>1</th>\n",
              "      <td>10.34</td>\n",
              "      <td>1.66</td>\n",
              "      <td>Male</td>\n",
              "      <td>No</td>\n",
              "      <td>Sun</td>\n",
              "      <td>Dinner</td>\n",
              "      <td>3</td>\n",
              "    </tr>\n",
              "    <tr>\n",
              "      <th>2</th>\n",
              "      <td>21.01</td>\n",
              "      <td>3.50</td>\n",
              "      <td>Male</td>\n",
              "      <td>No</td>\n",
              "      <td>Sun</td>\n",
              "      <td>Dinner</td>\n",
              "      <td>3</td>\n",
              "    </tr>\n",
              "    <tr>\n",
              "      <th>3</th>\n",
              "      <td>23.68</td>\n",
              "      <td>3.31</td>\n",
              "      <td>Male</td>\n",
              "      <td>No</td>\n",
              "      <td>Sun</td>\n",
              "      <td>Dinner</td>\n",
              "      <td>2</td>\n",
              "    </tr>\n",
              "    <tr>\n",
              "      <th>4</th>\n",
              "      <td>24.59</td>\n",
              "      <td>3.61</td>\n",
              "      <td>Female</td>\n",
              "      <td>No</td>\n",
              "      <td>Sun</td>\n",
              "      <td>Dinner</td>\n",
              "      <td>4</td>\n",
              "    </tr>\n",
              "    <tr>\n",
              "      <th>...</th>\n",
              "      <td>...</td>\n",
              "      <td>...</td>\n",
              "      <td>...</td>\n",
              "      <td>...</td>\n",
              "      <td>...</td>\n",
              "      <td>...</td>\n",
              "      <td>...</td>\n",
              "    </tr>\n",
              "    <tr>\n",
              "      <th>239</th>\n",
              "      <td>29.03</td>\n",
              "      <td>5.92</td>\n",
              "      <td>Male</td>\n",
              "      <td>No</td>\n",
              "      <td>Sat</td>\n",
              "      <td>Dinner</td>\n",
              "      <td>3</td>\n",
              "    </tr>\n",
              "    <tr>\n",
              "      <th>240</th>\n",
              "      <td>27.18</td>\n",
              "      <td>2.00</td>\n",
              "      <td>Female</td>\n",
              "      <td>Yes</td>\n",
              "      <td>Sat</td>\n",
              "      <td>Dinner</td>\n",
              "      <td>2</td>\n",
              "    </tr>\n",
              "    <tr>\n",
              "      <th>241</th>\n",
              "      <td>22.67</td>\n",
              "      <td>2.00</td>\n",
              "      <td>Male</td>\n",
              "      <td>Yes</td>\n",
              "      <td>Sat</td>\n",
              "      <td>Dinner</td>\n",
              "      <td>2</td>\n",
              "    </tr>\n",
              "    <tr>\n",
              "      <th>242</th>\n",
              "      <td>17.82</td>\n",
              "      <td>1.75</td>\n",
              "      <td>Male</td>\n",
              "      <td>No</td>\n",
              "      <td>Sat</td>\n",
              "      <td>Dinner</td>\n",
              "      <td>2</td>\n",
              "    </tr>\n",
              "    <tr>\n",
              "      <th>243</th>\n",
              "      <td>18.78</td>\n",
              "      <td>3.00</td>\n",
              "      <td>Female</td>\n",
              "      <td>No</td>\n",
              "      <td>Thur</td>\n",
              "      <td>Dinner</td>\n",
              "      <td>2</td>\n",
              "    </tr>\n",
              "  </tbody>\n",
              "</table>\n",
              "<p>244 rows × 7 columns</p>\n",
              "</div>"
            ],
            "text/plain": [
              "     total_bill   tip     sex smoker   day    time  size\n",
              "0         16.99  1.01  Female     No   Sun  Dinner     2\n",
              "1         10.34  1.66    Male     No   Sun  Dinner     3\n",
              "2         21.01  3.50    Male     No   Sun  Dinner     3\n",
              "3         23.68  3.31    Male     No   Sun  Dinner     2\n",
              "4         24.59  3.61  Female     No   Sun  Dinner     4\n",
              "..          ...   ...     ...    ...   ...     ...   ...\n",
              "239       29.03  5.92    Male     No   Sat  Dinner     3\n",
              "240       27.18  2.00  Female    Yes   Sat  Dinner     2\n",
              "241       22.67  2.00    Male    Yes   Sat  Dinner     2\n",
              "242       17.82  1.75    Male     No   Sat  Dinner     2\n",
              "243       18.78  3.00  Female     No  Thur  Dinner     2\n",
              "\n",
              "[244 rows x 7 columns]"
            ]
          },
          "metadata": {
            "tags": []
          },
          "execution_count": 24
        }
      ]
    },
    {
      "cell_type": "code",
      "metadata": {
        "colab": {
          "base_uri": "https://localhost:8080/",
          "height": 297
        },
        "id": "HmmFUGdn3O_b",
        "outputId": "35c495f5-9522-44f1-90df-50a2914e3ae6"
      },
      "source": [
        "sns.scatterplot(x=\"total_bill\", y = \"tip\", data = tips)"
      ],
      "execution_count": null,
      "outputs": [
        {
          "output_type": "execute_result",
          "data": {
            "text/plain": [
              "<matplotlib.axes._subplots.AxesSubplot at 0x7fcc19473650>"
            ]
          },
          "metadata": {
            "tags": []
          },
          "execution_count": 25
        },
        {
          "output_type": "display_data",
          "data": {
            "image/png": "[encoded data removed]",
            "text/plain": [
              "<Figure size 432x288 with 1 Axes>"
            ]
          },
          "metadata": {
            "tags": [],
            "needs_background": "light"
          }
        }
      ]
    },
    {
      "cell_type": "code",
      "metadata": {
        "colab": {
          "base_uri": "https://localhost:8080/",
          "height": 311
        },
        "id": "apIzn6jT3z8b",
        "outputId": "143161db-ffeb-4ba1-94d8-e10218b0a3d4"
      },
      "source": [
        "sns.catplot(x=\"sex\", y=\"total_bill\",\n",
        "                hue=\"time\", col=\"day\",\n",
        "                data=tips, kind=\"violin\", split=True,\n",
        "                height=4, aspect=.7);"
      ],
      "execution_count": null,
      "outputs": [
        {
          "output_type": "display_data",
          "data": {
            "image/png": "[encoded data removed]",
            "text/plain": [
              "<Figure size 876.025x288 with 4 Axes>"
            ]
          },
          "metadata": {
            "tags": [],
            "needs_background": "light"
          }
        }
      ]
    },
    {
      "cell_type": "markdown",
      "metadata": {
        "id": "o1MH8UtV4Dwj"
      },
      "source": [
        "# Statistical Data Analysis\n",
        "\n",
        "Mention for scikit-learn Machiene learning tool - mentioned on the seminar not discussed\n",
        "\n",
        "Stat models uses package statsmodels\n",
        "https://www.statsmodels.org/stable/index.html"
      ]
    },
    {
      "cell_type": "code",
      "metadata": {
        "id": "zQLzF-ww3tAg"
      },
      "source": [
        "import statsmodels.formula.api as smf"
      ],
      "execution_count": null,
      "outputs": []
    },
    {
      "cell_type": "code",
      "metadata": {
        "colab": {
          "base_uri": "https://localhost:8080/"
        },
        "id": "Jc-vRpLq5MnB",
        "outputId": "9fabfc23-d8fe-40c0-a8e7-3d88d6a46b4d"
      },
      "source": [
        "M = smf.ols(\"weight ~ height\", data = weight_df).fit()\n",
        "print(M.summary())"
      ],
      "execution_count": null,
      "outputs": [
        {
          "output_type": "stream",
          "text": [
            "                            OLS Regression Results                            \n",
            "==============================================================================\n",
            "Dep. Variable:                 weight   R-squared:                       0.436\n",
            "Model:                            OLS   Adj. R-squared:                  0.436\n",
            "Method:                 Least Squares   F-statistic:                     4688.\n",
            "Date:                Tue, 11 May 2021   Prob (F-statistic):               0.00\n",
            "Time:                        16:54:01   Log-Likelihood:                -23563.\n",
            "No. Observations:                6068   AIC:                         4.713e+04\n",
            "Df Residuals:                    6066   BIC:                         4.714e+04\n",
            "Df Model:                           1                                         \n",
            "Covariance Type:            nonrobust                                         \n",
            "==============================================================================\n",
            "                 coef    std err          t      P>|t|      [0.025      0.975]\n",
            "------------------------------------------------------------------------------\n",
            "Intercept   -117.1280      2.879    -40.688      0.000    -122.771    -111.485\n",
            "height         1.1481      0.017     68.472      0.000       1.115       1.181\n",
            "==============================================================================\n",
            "Omnibus:                      190.197   Durbin-Watson:                   1.893\n",
            "Prob(Omnibus):                  0.000   Jarque-Bera (JB):              214.639\n",
            "Skew:                           0.414   Prob(JB):                     2.46e-47\n",
            "Kurtosis:                       3.404   Cond. No.                     3.27e+03\n",
            "==============================================================================\n",
            "\n",
            "Warnings:\n",
            "[1] Standard Errors assume that the covariance matrix of the errors is correctly specified.\n",
            "[2] The condition number is large, 3.27e+03. This might indicate that there are\n",
            "strong multicollinearity or other numerical problems.\n"
          ],
          "name": "stdout"
        }
      ]
    },
    {
      "cell_type": "code",
      "metadata": {
        "colab": {
          "base_uri": "https://localhost:8080/"
        },
        "id": "PUl82GVx5hcx",
        "outputId": "f1fff744-a649-49b3-bc9d-d53eb972f9d2"
      },
      "source": [
        "M_Male = smf.ols(\"weight ~ height\", data = weight_df[weight_df.gender == \"male\"]).fit()\n",
        "print(M_Male.summary())\n",
        "M_Female = smf.ols(\"weight ~ height\", data = weight_df[weight_df.gender == \"female\"]).fit()\n",
        "print(M_Female.summary())"
      ],
      "execution_count": null,
      "outputs": [
        {
          "output_type": "stream",
          "text": [
            "                            OLS Regression Results                            \n",
            "==============================================================================\n",
            "Dep. Variable:                 weight   R-squared:                       0.220\n",
            "Model:                            OLS   Adj. R-squared:                  0.220\n",
            "Method:                 Least Squares   F-statistic:                     1150.\n",
            "Date:                Tue, 11 May 2021   Prob (F-statistic):          2.77e-222\n",
            "Time:                        16:54:03   Log-Likelihood:                -16121.\n",
            "No. Observations:                4082   AIC:                         3.225e+04\n",
            "Df Residuals:                    4080   BIC:                         3.226e+04\n",
            "Df Model:                           1                                         \n",
            "Covariance Type:            nonrobust                                         \n",
            "==============================================================================\n",
            "                 coef    std err          t      P>|t|      [0.025      0.975]\n",
            "------------------------------------------------------------------------------\n",
            "Intercept    -85.3090      5.042    -16.921      0.000     -95.193     -75.425\n",
            "height         0.9727      0.029     33.910      0.000       0.916       1.029\n",
            "==============================================================================\n",
            "Omnibus:                       92.522   Durbin-Watson:                   1.948\n",
            "Prob(Omnibus):                  0.000   Jarque-Bera (JB):               98.761\n",
            "Skew:                           0.366   Prob(JB):                     3.58e-22\n",
            "Kurtosis:                       3.213   Cond. No.                     4.51e+03\n",
            "==============================================================================\n",
            "\n",
            "Warnings:\n",
            "[1] Standard Errors assume that the covariance matrix of the errors is correctly specified.\n",
            "[2] The condition number is large, 4.51e+03. This might indicate that there are\n",
            "strong multicollinearity or other numerical problems.\n",
            "                            OLS Regression Results                            \n",
            "==============================================================================\n",
            "Dep. Variable:                 weight   R-squared:                       0.285\n",
            "Model:                            OLS   Adj. R-squared:                  0.284\n",
            "Method:                 Least Squares   F-statistic:                     789.2\n",
            "Date:                Tue, 11 May 2021   Prob (F-statistic):          1.75e-146\n",
            "Time:                        16:54:03   Log-Likelihood:                -7244.4\n",
            "No. Observations:                1986   AIC:                         1.449e+04\n",
            "Df Residuals:                    1984   BIC:                         1.450e+04\n",
            "Df Model:                           1                                         \n",
            "Covariance Type:            nonrobust                                         \n",
            "==============================================================================\n",
            "                 coef    std err          t      P>|t|      [0.025      0.975]\n",
            "------------------------------------------------------------------------------\n",
            "Intercept    -80.8858      5.295    -15.275      0.000     -91.270     -70.501\n",
            "height         0.9128      0.032     28.094      0.000       0.849       0.977\n",
            "==============================================================================\n",
            "Omnibus:                      107.581   Durbin-Watson:                   1.822\n",
            "Prob(Omnibus):                  0.000   Jarque-Bera (JB):              131.856\n",
            "Skew:                           0.542   Prob(JB):                     2.33e-29\n",
            "Kurtosis:                       3.647   Cond. No.                     4.14e+03\n",
            "==============================================================================\n",
            "\n",
            "Warnings:\n",
            "[1] Standard Errors assume that the covariance matrix of the errors is correctly specified.\n",
            "[2] The condition number is large, 4.14e+03. This might indicate that there are\n",
            "strong multicollinearity or other numerical problems.\n"
          ],
          "name": "stdout"
        }
      ]
    },
    {
      "cell_type": "code",
      "metadata": {
        "colab": {
          "base_uri": "https://localhost:8080/",
          "height": 110
        },
        "id": "dvaTvZT05-SK",
        "outputId": "f118d4a7-41f0-485a-ddd1-75a8c85d4328"
      },
      "source": [
        "M.conf_int()"
      ],
      "execution_count": null,
      "outputs": [
        {
          "output_type": "execute_result",
          "data": {
            "text/html": [
              "<div>\n",
              "<style scoped>\n",
              "    .dataframe tbody tr th:only-of-type {\n",
              "        vertical-align: middle;\n",
              "    }\n",
              "\n",
              "    .dataframe tbody tr th {\n",
              "        vertical-align: top;\n",
              "    }\n",
              "\n",
              "    .dataframe thead th {\n",
              "        text-align: right;\n",
              "    }\n",
              "</style>\n",
              "<table border=\"1\" class=\"dataframe\">\n",
              "  <thead>\n",
              "    <tr style=\"text-align: right;\">\n",
              "      <th></th>\n",
              "      <th>0</th>\n",
              "      <th>1</th>\n",
              "    </tr>\n",
              "  </thead>\n",
              "  <tbody>\n",
              "    <tr>\n",
              "      <th>Intercept</th>\n",
              "      <td>-122.771280</td>\n",
              "      <td>-111.484761</td>\n",
              "    </tr>\n",
              "    <tr>\n",
              "      <th>height</th>\n",
              "      <td>1.115266</td>\n",
              "      <td>1.181009</td>\n",
              "    </tr>\n",
              "  </tbody>\n",
              "</table>\n",
              "</div>"
            ],
            "text/plain": [
              "                    0           1\n",
              "Intercept -122.771280 -111.484761\n",
              "height       1.115266    1.181009"
            ]
          },
          "metadata": {
            "tags": []
          },
          "execution_count": 30
        }
      ]
    },
    {
      "cell_type": "code",
      "metadata": {
        "colab": {
          "base_uri": "https://localhost:8080/"
        },
        "id": "N3J2tlnSRlju",
        "outputId": "30f9eb9d-6e13-4626-dee9-9090003a5520"
      },
      "source": [
        "M.predict()"
      ],
      "execution_count": null,
      "outputs": [
        {
          "output_type": "execute_result",
          "data": {
            "text/plain": [
              "array([86.78122514, 78.28500656, 82.07386079, ..., 71.62580822,\n",
              "       68.41102281, 71.28136692])"
            ]
          },
          "metadata": {
            "tags": []
          },
          "execution_count": 31
        }
      ]
    },
    {
      "cell_type": "code",
      "metadata": {
        "colab": {
          "base_uri": "https://localhost:8080/"
        },
        "id": "DPNfcNq6RsLx",
        "outputId": "c1aa1ff0-790f-401a-d4a3-bc5bd43fcdb1"
      },
      "source": [
        "newVal = pd.DataFrame({\"height\":[150,180,200]})\n",
        "newVal.head"
      ],
      "execution_count": null,
      "outputs": [
        {
          "output_type": "execute_result",
          "data": {
            "text/plain": [
              "<bound method NDFrame.head of    height\n",
              "0     150\n",
              "1     180\n",
              "2     200>"
            ]
          },
          "metadata": {
            "tags": []
          },
          "execution_count": 32
        }
      ]
    },
    {
      "cell_type": "code",
      "metadata": {
        "colab": {
          "base_uri": "https://localhost:8080/"
        },
        "id": "vvKr_NuASTkP",
        "outputId": "bfaf5b7b-b93b-418e-8110-da72e284746d"
      },
      "source": [
        "M.predict(exog=newVal)"
      ],
      "execution_count": null,
      "outputs": [
        {
          "output_type": "execute_result",
          "data": {
            "text/plain": [
              "0     55.092626\n",
              "1     89.536755\n",
              "2    112.499508\n",
              "dtype: float64"
            ]
          },
          "metadata": {
            "tags": []
          },
          "execution_count": 33
        }
      ]
    },
    {
      "cell_type": "code",
      "metadata": {
        "colab": {
          "base_uri": "https://localhost:8080/",
          "height": 416
        },
        "id": "OKLFAAhbSj6-",
        "outputId": "e7addbe2-c11c-4174-e12c-7ed758a07976"
      },
      "source": [
        "weight_df[\"heavy\"] = 1* (weight_df.weight > 100) # if you multiply by one the boolean will be always numberical values\n",
        "weight_df"
      ],
      "execution_count": null,
      "outputs": [
        {
          "output_type": "execute_result",
          "data": {
            "text/html": [
              "<div>\n",
              "<style scoped>\n",
              "    .dataframe tbody tr th:only-of-type {\n",
              "        vertical-align: middle;\n",
              "    }\n",
              "\n",
              "    .dataframe tbody tr th {\n",
              "        vertical-align: top;\n",
              "    }\n",
              "\n",
              "    .dataframe thead th {\n",
              "        text-align: right;\n",
              "    }\n",
              "</style>\n",
              "<table border=\"1\" class=\"dataframe\">\n",
              "  <thead>\n",
              "    <tr style=\"text-align: right;\">\n",
              "      <th></th>\n",
              "      <th>subjectid</th>\n",
              "      <th>gender</th>\n",
              "      <th>height</th>\n",
              "      <th>weight</th>\n",
              "      <th>handedness</th>\n",
              "      <th>age</th>\n",
              "      <th>race</th>\n",
              "      <th>heavy</th>\n",
              "    </tr>\n",
              "  </thead>\n",
              "  <tbody>\n",
              "    <tr>\n",
              "      <th>0</th>\n",
              "      <td>10027</td>\n",
              "      <td>male</td>\n",
              "      <td>177.6</td>\n",
              "      <td>81.5</td>\n",
              "      <td>right</td>\n",
              "      <td>41</td>\n",
              "      <td>white</td>\n",
              "      <td>0</td>\n",
              "    </tr>\n",
              "    <tr>\n",
              "      <th>1</th>\n",
              "      <td>10032</td>\n",
              "      <td>male</td>\n",
              "      <td>170.2</td>\n",
              "      <td>72.6</td>\n",
              "      <td>left</td>\n",
              "      <td>35</td>\n",
              "      <td>white</td>\n",
              "      <td>0</td>\n",
              "    </tr>\n",
              "    <tr>\n",
              "      <th>2</th>\n",
              "      <td>10033</td>\n",
              "      <td>male</td>\n",
              "      <td>173.5</td>\n",
              "      <td>92.9</td>\n",
              "      <td>left</td>\n",
              "      <td>42</td>\n",
              "      <td>black</td>\n",
              "      <td>0</td>\n",
              "    </tr>\n",
              "    <tr>\n",
              "      <th>3</th>\n",
              "      <td>10092</td>\n",
              "      <td>male</td>\n",
              "      <td>165.5</td>\n",
              "      <td>79.4</td>\n",
              "      <td>right</td>\n",
              "      <td>31</td>\n",
              "      <td>white</td>\n",
              "      <td>0</td>\n",
              "    </tr>\n",
              "    <tr>\n",
              "      <th>4</th>\n",
              "      <td>10093</td>\n",
              "      <td>male</td>\n",
              "      <td>191.4</td>\n",
              "      <td>94.6</td>\n",
              "      <td>right</td>\n",
              "      <td>21</td>\n",
              "      <td>black</td>\n",
              "      <td>0</td>\n",
              "    </tr>\n",
              "    <tr>\n",
              "      <th>...</th>\n",
              "      <td>...</td>\n",
              "      <td>...</td>\n",
              "      <td>...</td>\n",
              "      <td>...</td>\n",
              "      <td>...</td>\n",
              "      <td>...</td>\n",
              "      <td>...</td>\n",
              "      <td>...</td>\n",
              "    </tr>\n",
              "    <tr>\n",
              "      <th>6063</th>\n",
              "      <td>29501</td>\n",
              "      <td>female</td>\n",
              "      <td>168.7</td>\n",
              "      <td>83.2</td>\n",
              "      <td>right</td>\n",
              "      <td>51</td>\n",
              "      <td>hispanic</td>\n",
              "      <td>0</td>\n",
              "    </tr>\n",
              "    <tr>\n",
              "      <th>6064</th>\n",
              "      <td>29502</td>\n",
              "      <td>female</td>\n",
              "      <td>161.3</td>\n",
              "      <td>71.7</td>\n",
              "      <td>right</td>\n",
              "      <td>40</td>\n",
              "      <td>hispanic</td>\n",
              "      <td>0</td>\n",
              "    </tr>\n",
              "    <tr>\n",
              "      <th>6065</th>\n",
              "      <td>29503</td>\n",
              "      <td>female</td>\n",
              "      <td>164.4</td>\n",
              "      <td>76.2</td>\n",
              "      <td>right</td>\n",
              "      <td>40</td>\n",
              "      <td>black</td>\n",
              "      <td>0</td>\n",
              "    </tr>\n",
              "    <tr>\n",
              "      <th>6066</th>\n",
              "      <td>29511</td>\n",
              "      <td>female</td>\n",
              "      <td>161.6</td>\n",
              "      <td>63.2</td>\n",
              "      <td>right</td>\n",
              "      <td>31</td>\n",
              "      <td>hispanic</td>\n",
              "      <td>0</td>\n",
              "    </tr>\n",
              "    <tr>\n",
              "      <th>6067</th>\n",
              "      <td>920103</td>\n",
              "      <td>female</td>\n",
              "      <td>164.1</td>\n",
              "      <td>61.0</td>\n",
              "      <td>right</td>\n",
              "      <td>27</td>\n",
              "      <td>hispanic</td>\n",
              "      <td>0</td>\n",
              "    </tr>\n",
              "  </tbody>\n",
              "</table>\n",
              "<p>6068 rows × 8 columns</p>\n",
              "</div>"
            ],
            "text/plain": [
              "      subjectid  gender  height  weight handedness  age      race  heavy\n",
              "0         10027    male   177.6    81.5      right   41     white      0\n",
              "1         10032    male   170.2    72.6       left   35     white      0\n",
              "2         10033    male   173.5    92.9       left   42     black      0\n",
              "3         10092    male   165.5    79.4      right   31     white      0\n",
              "4         10093    male   191.4    94.6      right   21     black      0\n",
              "...         ...     ...     ...     ...        ...  ...       ...    ...\n",
              "6063      29501  female   168.7    83.2      right   51  hispanic      0\n",
              "6064      29502  female   161.3    71.7      right   40  hispanic      0\n",
              "6065      29503  female   164.4    76.2      right   40     black      0\n",
              "6066      29511  female   161.6    63.2      right   31  hispanic      0\n",
              "6067     920103  female   164.1    61.0      right   27  hispanic      0\n",
              "\n",
              "[6068 rows x 8 columns]"
            ]
          },
          "metadata": {
            "tags": []
          },
          "execution_count": 34
        }
      ]
    },
    {
      "cell_type": "code",
      "metadata": {
        "colab": {
          "base_uri": "https://localhost:8080/"
        },
        "id": "XLeTdoenaAjf",
        "outputId": "b81ee274-9a86-48d3-d584-6077aa3a75be"
      },
      "source": [
        "M_glm = smf.logit(\"heavy ~ height\", data = weight_df).fit()"
      ],
      "execution_count": null,
      "outputs": [
        {
          "output_type": "stream",
          "text": [
            "Optimization terminated successfully.\n",
            "         Current function value: 0.259120\n",
            "         Iterations 8\n"
          ],
          "name": "stdout"
        }
      ]
    },
    {
      "cell_type": "code",
      "metadata": {
        "colab": {
          "base_uri": "https://localhost:8080/"
        },
        "id": "L7FwuvDiaq-w",
        "outputId": "4770e8c2-3e66-4e89-b4b7-893b22389dfa"
      },
      "source": [
        "print(M_glm.summary())"
      ],
      "execution_count": null,
      "outputs": [
        {
          "output_type": "stream",
          "text": [
            "                           Logit Regression Results                           \n",
            "==============================================================================\n",
            "Dep. Variable:                  heavy   No. Observations:                 6068\n",
            "Model:                          Logit   Df Residuals:                     6066\n",
            "Method:                           MLE   Df Model:                            1\n",
            "Date:                Tue, 11 May 2021   Pseudo R-squ.:                  0.2144\n",
            "Time:                        16:54:17   Log-Likelihood:                -1572.3\n",
            "converged:                       True   LL-Null:                       -2001.4\n",
            "Covariance Type:            nonrobust   LLR p-value:                1.188e-188\n",
            "==============================================================================\n",
            "                 coef    std err          z      P>|z|      [0.025      0.975]\n",
            "------------------------------------------------------------------------------\n",
            "Intercept    -31.9842      1.250    -25.580      0.000     -34.435     -29.534\n",
            "height         0.1694      0.007     24.287      0.000       0.156       0.183\n",
            "==============================================================================\n"
          ],
          "name": "stdout"
        }
      ]
    }
  ]
}